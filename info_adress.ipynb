{
 "cells": [
  {
   "cell_type": "code",
   "execution_count": 1,
   "id": "d56e3cf0",
   "metadata": {},
   "outputs": [],
   "source": [
    "import os\n",
    "import pandas as pd\n",
    "import numpy as np\n",
    "import re\n",
    "from transliterate import translit\n",
    "from sklearn.feature_extraction.text import CountVectorizer\n",
    "from sklearn.preprocessing import QuantileTransformer\n",
    "from scipy.sparse import csr_matrix, hstack\n",
    "from tqdm import tqdm\n",
    "from sklearn.neighbors import NearestNeighbors\n",
    "from sklearn.metrics import accuracy_score\n",
    "import pymorphy2\n",
    "\n",
    "import warnings\n",
    "warnings.filterwarnings('ignore')\n",
    "import platform"
   ]
  },
  {
   "cell_type": "code",
   "execution_count": 2,
   "id": "3f2a1187",
   "metadata": {},
   "outputs": [],
   "source": [
    "def normalizeString(s):\n",
    "    s = re.sub(r'([\\/\\\\\\.\\-a-zA-Z-а-яА-Я!?]+)([0-9]+)', r\" \\1 \\2\", s) \n",
    "    return s"
   ]
  },
  {
   "cell_type": "code",
   "execution_count": 3,
   "id": "c6822397",
   "metadata": {},
   "outputs": [
    {
     "name": "stdout",
     "output_type": "stream",
     "text": [
      "CPU times: user 2.51 s, sys: 147 ms, total: 2.66 s\n",
      "Wall time: 2.77 s\n"
     ]
    }
   ],
   "source": [
    "%%time\n",
    "add_data = \"./train_dataset_Датасет/additional_data\"\n",
    "\n",
    "if platform.node() == 'vlad-F17':\n",
    "    add_data = \"../input/additional_data\"\n",
    "\n",
    "df_building = pd.read_csv(f\"{add_data}/building_20230808.csv\", low_memory = False)\n",
    "df_building = df_building.rename(columns={'id': 'target_building_id'})\n",
    "\n",
    "path = './train_dataset_Датасет/datasets/'\n",
    "if platform.node() == 'vlad-F17':\n",
    "    path = \"../input/datasets/\"\n",
    "\n",
    "files = os.listdir(path)\n",
    "\n",
    "for i, file in enumerate(files):\n",
    "    if i == 0:\n",
    "        df = pd.read_csv(path + file, low_memory = False)\n",
    "    else:\n",
    "        temp = pd.read_csv(path + file, low_memory = False)\n",
    "        df = pd.concat([df, temp], ignore_index = True)\n",
    "        \n",
    "use = ['address', 'target_address']\n",
    "df.drop_duplicates(subset = use, inplace = True)\n",
    "df.drop_duplicates(subset = 'address', inplace = True)\n",
    "\n",
    "df = df.merge(df_building, how = 'left', on = ['target_building_id'])\n",
    "\n",
    "df = df[df['is_actual'] == True]\n",
    "df['target_building_id'] = df['target_building_id'].astype(int)\n",
    "\n",
    "\n",
    "df['address'] = df['address'].apply(lambda x: translit(x, 'ru'))\n",
    "df['address'] = df['address'].apply(lambda x: normalizeString(x))\n",
    "\n",
    "df['target_address'] = df['target_address'].apply(lambda x: normalizeString(x))"
   ]
  },
  {
   "cell_type": "code",
   "execution_count": 4,
   "id": "9ac62713",
   "metadata": {},
   "outputs": [
    {
     "name": "stdout",
     "output_type": "stream",
     "text": [
      "CPU times: user 8.66 s, sys: 464 ms, total: 9.13 s\n",
      "Wall time: 9.15 s\n"
     ]
    },
    {
     "data": {
      "text/plain": [
       "<76655x4296 sparse matrix of type '<class 'numpy.float64'>'\n",
       "\twith 2047755 stored elements in Compressed Sparse Column format>"
      ]
     },
     "execution_count": 4,
     "metadata": {},
     "output_type": "execute_result"
    }
   ],
   "source": [
    "%%time\n",
    "RANDOM_STATE = 0\n",
    "TOKEN_PATTERN = '\\\\w+'\n",
    "count_char = CountVectorizer(\n",
    "    analyzer = 'char_wb', \n",
    "    ngram_range = (1, 1), \n",
    "    token_pattern=TOKEN_PATTERN, \n",
    "    max_df = 0.8\n",
    ")\n",
    "\n",
    "count_char2 = CountVectorizer(\n",
    "    analyzer = 'char_wb', \n",
    "    ngram_range = (1, 2), \n",
    "    token_pattern=TOKEN_PATTERN, \n",
    "    max_df = 0.2\n",
    ")\n",
    "\n",
    "count_ngram = CountVectorizer(\n",
    "    ngram_range=(1, 1), \n",
    "    token_pattern=TOKEN_PATTERN, \n",
    "    max_df = 0.9\n",
    ")\n",
    "\n",
    "char_csr = count_char.fit_transform(df['target_address'])\n",
    "ngram_csr = count_ngram.fit_transform(df['target_address'])\n",
    "char_csr2 = count_char2.fit_transform(df['target_address'])\n",
    "\n",
    "\n",
    "csr = hstack([char_csr, ngram_csr, char_csr2])\n",
    "sca = QuantileTransformer(random_state = RANDOM_STATE)\n",
    "csr = sca.fit_transform(csr)\n",
    "csr"
   ]
  },
  {
   "cell_type": "markdown",
   "id": "93ce4278",
   "metadata": {},
   "source": [
    "# ТЕСТ - ВЫБОРКА ИЗ ТРЕЙН ДАТАСЕТА"
   ]
  },
  {
   "cell_type": "code",
   "execution_count": 5,
   "id": "60a9cf06",
   "metadata": {},
   "outputs": [
    {
     "data": {
      "text/plain": [
       "<76655x4296 sparse matrix of type '<class 'numpy.float64'>'\n",
       "\twith 1963738 stored elements in Compressed Sparse Column format>"
      ]
     },
     "execution_count": 5,
     "metadata": {},
     "output_type": "execute_result"
    }
   ],
   "source": [
    "np.random.seed(0)\n",
    "TEST_SIZE = 5000\n",
    "\n",
    "num_tests = np.random.randint(0, df.shape[0], size = TEST_SIZE)\n",
    "y_test = df['target_building_id'].iloc[num_tests]\n",
    "char_csr_test = count_char.transform(df['address'])\n",
    "ngram_csr_test = count_ngram.transform(df['address'])\n",
    "char_csr_test2 = count_char2.transform(df['address'])\n",
    "\n",
    "csr_test = hstack([char_csr_test, ngram_csr_test, char_csr_test2])\n",
    "csr_test = sca.transform(csr_test)\n",
    "csr_test"
   ]
  },
  {
   "cell_type": "code",
   "execution_count": 6,
   "id": "9139cafa",
   "metadata": {},
   "outputs": [
    {
     "name": "stdout",
     "output_type": "stream",
     "text": [
      "CPU times: user 32.7 ms, sys: 4.04 ms, total: 36.7 ms\n",
      "Wall time: 36.3 ms\n"
     ]
    },
    {
     "data": {
      "text/html": [
       "<style>#sk-container-id-1 {color: black;background-color: white;}#sk-container-id-1 pre{padding: 0;}#sk-container-id-1 div.sk-toggleable {background-color: white;}#sk-container-id-1 label.sk-toggleable__label {cursor: pointer;display: block;width: 100%;margin-bottom: 0;padding: 0.3em;box-sizing: border-box;text-align: center;}#sk-container-id-1 label.sk-toggleable__label-arrow:before {content: \"▸\";float: left;margin-right: 0.25em;color: #696969;}#sk-container-id-1 label.sk-toggleable__label-arrow:hover:before {color: black;}#sk-container-id-1 div.sk-estimator:hover label.sk-toggleable__label-arrow:before {color: black;}#sk-container-id-1 div.sk-toggleable__content {max-height: 0;max-width: 0;overflow: hidden;text-align: left;background-color: #f0f8ff;}#sk-container-id-1 div.sk-toggleable__content pre {margin: 0.2em;color: black;border-radius: 0.25em;background-color: #f0f8ff;}#sk-container-id-1 input.sk-toggleable__control:checked~div.sk-toggleable__content {max-height: 200px;max-width: 100%;overflow: auto;}#sk-container-id-1 input.sk-toggleable__control:checked~label.sk-toggleable__label-arrow:before {content: \"▾\";}#sk-container-id-1 div.sk-estimator input.sk-toggleable__control:checked~label.sk-toggleable__label {background-color: #d4ebff;}#sk-container-id-1 div.sk-label input.sk-toggleable__control:checked~label.sk-toggleable__label {background-color: #d4ebff;}#sk-container-id-1 input.sk-hidden--visually {border: 0;clip: rect(1px 1px 1px 1px);clip: rect(1px, 1px, 1px, 1px);height: 1px;margin: -1px;overflow: hidden;padding: 0;position: absolute;width: 1px;}#sk-container-id-1 div.sk-estimator {font-family: monospace;background-color: #f0f8ff;border: 1px dotted black;border-radius: 0.25em;box-sizing: border-box;margin-bottom: 0.5em;}#sk-container-id-1 div.sk-estimator:hover {background-color: #d4ebff;}#sk-container-id-1 div.sk-parallel-item::after {content: \"\";width: 100%;border-bottom: 1px solid gray;flex-grow: 1;}#sk-container-id-1 div.sk-label:hover label.sk-toggleable__label {background-color: #d4ebff;}#sk-container-id-1 div.sk-serial::before {content: \"\";position: absolute;border-left: 1px solid gray;box-sizing: border-box;top: 0;bottom: 0;left: 50%;z-index: 0;}#sk-container-id-1 div.sk-serial {display: flex;flex-direction: column;align-items: center;background-color: white;padding-right: 0.2em;padding-left: 0.2em;position: relative;}#sk-container-id-1 div.sk-item {position: relative;z-index: 1;}#sk-container-id-1 div.sk-parallel {display: flex;align-items: stretch;justify-content: center;background-color: white;position: relative;}#sk-container-id-1 div.sk-item::before, #sk-container-id-1 div.sk-parallel-item::before {content: \"\";position: absolute;border-left: 1px solid gray;box-sizing: border-box;top: 0;bottom: 0;left: 50%;z-index: -1;}#sk-container-id-1 div.sk-parallel-item {display: flex;flex-direction: column;z-index: 1;position: relative;background-color: white;}#sk-container-id-1 div.sk-parallel-item:first-child::after {align-self: flex-end;width: 50%;}#sk-container-id-1 div.sk-parallel-item:last-child::after {align-self: flex-start;width: 50%;}#sk-container-id-1 div.sk-parallel-item:only-child::after {width: 0;}#sk-container-id-1 div.sk-dashed-wrapped {border: 1px dashed gray;margin: 0 0.4em 0.5em 0.4em;box-sizing: border-box;padding-bottom: 0.4em;background-color: white;}#sk-container-id-1 div.sk-label label {font-family: monospace;font-weight: bold;display: inline-block;line-height: 1.2em;}#sk-container-id-1 div.sk-label-container {text-align: center;}#sk-container-id-1 div.sk-container {/* jupyter's `normalize.less` sets `[hidden] { display: none; }` but bootstrap.min.css set `[hidden] { display: none !important; }` so we also need the `!important` here to be able to override the default hidden behavior on the sphinx rendered scikit-learn.org. See: https://github.com/scikit-learn/scikit-learn/issues/21755 */display: inline-block !important;position: relative;}#sk-container-id-1 div.sk-text-repr-fallback {display: none;}</style><div id=\"sk-container-id-1\" class=\"sk-top-container\"><div class=\"sk-text-repr-fallback\"><pre>NearestNeighbors(metric=&#x27;cosine&#x27;, n_neighbors=10)</pre><b>In a Jupyter environment, please rerun this cell to show the HTML representation or trust the notebook. <br />On GitHub, the HTML representation is unable to render, please try loading this page with nbviewer.org.</b></div><div class=\"sk-container\" hidden><div class=\"sk-item\"><div class=\"sk-estimator sk-toggleable\"><input class=\"sk-toggleable__control sk-hidden--visually\" id=\"sk-estimator-id-1\" type=\"checkbox\" checked><label for=\"sk-estimator-id-1\" class=\"sk-toggleable__label sk-toggleable__label-arrow\">NearestNeighbors</label><div class=\"sk-toggleable__content\"><pre>NearestNeighbors(metric=&#x27;cosine&#x27;, n_neighbors=10)</pre></div></div></div></div></div>"
      ],
      "text/plain": [
       "NearestNeighbors(metric='cosine', n_neighbors=10)"
      ]
     },
     "execution_count": 6,
     "metadata": {},
     "output_type": "execute_result"
    }
   ],
   "source": [
    "%%time\n",
    "\n",
    "neigh = NearestNeighbors(n_neighbors=10, metric='cosine')\n",
    "neigh.fit(csr)"
   ]
  },
  {
   "cell_type": "code",
   "execution_count": 7,
   "id": "aa0682d4",
   "metadata": {
    "scrolled": true
   },
   "outputs": [
    {
     "name": "stdout",
     "output_type": "stream",
     "text": [
      "Accuracy_scores:\n",
      "1 ответ на 1 запрос 0.744\n",
      "3 ответа на 1 запрос 0.8424\n",
      "10 ответов на 1 запрос 0.882\n"
     ]
    }
   ],
   "source": [
    "# если 1 из top_n предсказанных - верный\n",
    "PREDICT_SIZE = 100\n",
    "pred = neigh.kneighbors(csr_test[num_tests], PREDICT_SIZE, return_distance=False)\n",
    "\n",
    "def accuracy_score_(y_test, pred, top_n = 10):\n",
    "    y_pred_ = []\n",
    "    for i in range(len(pred)):\n",
    "        y_test_i = y_test.iloc[i]\n",
    "        y_pred_i = df['target_building_id'].iloc[pred[i].flatten()].drop_duplicates().values[:top_n]\n",
    "        if (y_test_i in y_pred_i):\n",
    "            y_pred_.append(y_test_i)\n",
    "        else:\n",
    "            y_pred_.append(y_pred_i[0])\n",
    "\n",
    "    return accuracy_score(y_test, y_pred_)\n",
    "\n",
    "print('Accuracy_scores:')\n",
    "print('1 ответ на 1 запрос', accuracy_score_(y_test, pred, top_n = 1))\n",
    "print('3 ответа на 1 запрос', accuracy_score_(y_test, pred, top_n = 3))\n",
    "print('10 ответов на 1 запрос', accuracy_score_(y_test, pred, top_n = 10))"
   ]
  },
  {
   "cell_type": "markdown",
   "id": "9c0ff5f1",
   "metadata": {},
   "source": [
    "# ТЕСТОВЫЙ ДАТАСЕТ"
   ]
  },
  {
   "cell_type": "code",
   "execution_count": 8,
   "id": "2543c48b",
   "metadata": {},
   "outputs": [],
   "source": [
    "if platform.node() == 'vlad-F17':\n",
    "    df_test = pd.read_csv('../input/test_example.csv', sep = ';')\n",
    "else:\n",
    "    df_test = pd.read_csv('test_example.csv', delimiter =';')\n",
    "\n",
    "\n",
    "df_test['address'] = df_test['address'].apply(lambda x: translit(x, 'ru'))\n",
    "df_test['address'] = df_test['address'].apply(lambda x: normalizeString(x))"
   ]
  },
  {
   "cell_type": "code",
   "execution_count": 9,
   "id": "a270d1da",
   "metadata": {},
   "outputs": [
    {
     "data": {
      "text/plain": [
       "<328x4296 sparse matrix of type '<class 'numpy.float64'>'\n",
       "\twith 9347 stored elements in Compressed Sparse Column format>"
      ]
     },
     "execution_count": 9,
     "metadata": {},
     "output_type": "execute_result"
    }
   ],
   "source": [
    "np.random.seed(0)\n",
    "y_test_ = df_test['target_building_id']\n",
    "char_csr_test_ = count_char.transform(df_test['address'])\n",
    "ngram_csr_test_ = count_ngram.transform(df_test['address'])\n",
    "char_csr_test2_ = count_char2.transform(df_test['address'])\n",
    "\n",
    "csr_test_ = hstack([char_csr_test_, ngram_csr_test_, char_csr_test2_])\n",
    "csr_test_ = sca.transform(csr_test_)\n",
    "csr_test_"
   ]
  },
  {
   "cell_type": "code",
   "execution_count": 10,
   "id": "8dcd5cb6",
   "metadata": {},
   "outputs": [
    {
     "name": "stdout",
     "output_type": "stream",
     "text": [
      "Accuracy_scores:\n",
      "1 ответ на 1 запрос 0.7347560975609756\n",
      "3 ответа на 1 запрос 0.7865853658536586\n",
      "10 ответов на 1 запрос 0.7987804878048781\n"
     ]
    }
   ],
   "source": [
    "# если 1 из top_n предсказанных - верный\n",
    "PREDICT_SIZE = 100\n",
    "pred_ = neigh.kneighbors(csr_test_, PREDICT_SIZE, return_distance=False)\n",
    "\n",
    "print('Accuracy_scores:')\n",
    "print('1 ответ на 1 запрос', accuracy_score_(y_test_, pred_, top_n=1))\n",
    "print('3 ответа на 1 запрос', accuracy_score_(y_test_, pred_, top_n=3))\n",
    "print('10 ответов на 1 запрос', accuracy_score_(y_test_, pred_, top_n=10))"
   ]
  },
  {
   "cell_type": "code",
   "execution_count": 11,
   "id": "629574ea",
   "metadata": {},
   "outputs": [
    {
     "name": "stderr",
     "output_type": "stream",
     "text": [
      "100%|█████████████████████████████████████████████| 328/328 [00:23<00:00, 13.88it/s]\n"
     ]
    }
   ],
   "source": [
    "df_test['targe_model'] = 0\n",
    "for i in tqdm(range(len(df_test))):\n",
    "    char_csr_test_ = count_char.transform([df_test['address'].iloc[i]])\n",
    "    ngram_csr_test_ = count_ngram.transform([df_test['address'].iloc[i]])\n",
    "    char_csr_test2_ = count_char2.transform([df_test['address'].iloc[i]])\n",
    "    \n",
    "    csr_test_ = hstack([char_csr_test_, ngram_csr_test_, char_csr_test2_])\n",
    "    csr_test_ = sca.transform(csr_test_)\n",
    "    \n",
    "    PREDICT_SIZE = 1\n",
    "    pred_ = neigh.kneighbors(csr_test_, PREDICT_SIZE, return_distance = False)\n",
    "    y_pred = df['target_building_id'].iloc[pred_.flatten()].drop_duplicates().values[:1]\n",
    "    df_test['targe_model'].iloc[i] = y_pred"
   ]
  },
  {
   "cell_type": "code",
   "execution_count": 12,
   "id": "bde4a539",
   "metadata": {},
   "outputs": [
    {
     "name": "stdout",
     "output_type": "stream",
     "text": [
      "0.7317073170731707\n"
     ]
    }
   ],
   "source": [
    "print(accuracy_score(df_test['target_building_id'], df_test['targe_model']))"
   ]
  }
 ],
 "metadata": {
  "kernelspec": {
   "display_name": "Python 3 (ipykernel)",
   "language": "python",
   "name": "python3"
  },
  "language_info": {
   "codemirror_mode": {
    "name": "ipython",
    "version": 3
   },
   "file_extension": ".py",
   "mimetype": "text/x-python",
   "name": "python",
   "nbconvert_exporter": "python",
   "pygments_lexer": "ipython3",
   "version": "3.9.17"
  }
 },
 "nbformat": 4,
 "nbformat_minor": 5
}
