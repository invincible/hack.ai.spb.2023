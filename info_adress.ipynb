{
 "cells": [
  {
   "cell_type": "code",
   "execution_count": 4,
   "id": "979eddad-a61a-446e-82a7-7739a76de12a",
   "metadata": {},
   "outputs": [
    {
     "name": "stdout",
     "output_type": "stream",
     "text": [
      "Collecting transliterate\n",
      "  Using cached transliterate-1.10.2-py2.py3-none-any.whl (45 kB)\n",
      "Requirement already satisfied: six>=1.1.0 in d:\\python\\python310\\lib\\site-packages (from transliterate) (1.16.0)\n",
      "Installing collected packages: transliterate\n",
      "Successfully installed transliterate-1.10.2\n",
      "Note: you may need to restart the kernel to use updated packages.\n"
     ]
    },
    {
     "name": "stderr",
     "output_type": "stream",
     "text": [
      "WARNING: Ignoring invalid distribution -tarlette (d:\\python\\python310\\lib\\site-packages)\n",
      "WARNING: Ignoring invalid distribution -tarlette (d:\\python\\python310\\lib\\site-packages)\n",
      "\n",
      "[notice] A new release of pip is available: 23.1.2 -> 23.2.1\n",
      "[notice] To update, run: D:\\Python\\Python310\\python.exe -m pip install --upgrade pip\n"
     ]
    }
   ],
   "source": [
    "pip install transliterate"
   ]
  },
  {
   "cell_type": "code",
   "execution_count": 5,
   "id": "f16df86a",
   "metadata": {},
   "outputs": [],
   "source": [
    "import os\n",
    "import pandas as pd\n",
    "from transliterate import translit\n",
    "from sklearn.feature_extraction.text import CountVectorizer\n",
    "from sklearn.preprocessing import QuantileTransformer\n",
    "from scipy.sparse import csr_matrix, hstack\n",
    "import numpy as np\n",
    "from tqdm import tqdm\n",
    "from sklearn.neighbors import NearestNeighbors\n",
    "from sklearn.metrics import accuracy_score\n",
    "\n",
    "import warnings\n",
    "warnings.filterwarnings('ignore')"
   ]
  },
  {
   "cell_type": "code",
   "execution_count": 6,
   "id": "c6822397",
   "metadata": {},
   "outputs": [],
   "source": [
    "add_data = \"additional_data\"\n",
    "\n",
    "df_building = pd.read_csv(f\"{add_data}/building_20230808.csv\", low_memory = False)\n",
    "df_building = df_building.rename(columns={'id': 'target_building_id'})\n",
    "\n",
    "path = 'datasets/'\n",
    "files = os.listdir(path)\n",
    "\n",
    "for i, file in enumerate(files):\n",
    "    if i == 0:\n",
    "        df = pd.read_csv(path + file, low_memory = False)\n",
    "    else:\n",
    "        temp = pd.read_csv(path + file, low_memory = False)\n",
    "        df = pd.concat([df, temp], ignore_index = True)\n",
    "        \n",
    "use = ['address', 'target_address']\n",
    "df.drop_duplicates(subset = use, inplace = True)\n",
    "df.drop_duplicates(subset = 'address', inplace = True)\n",
    "\n",
    "df = df.merge(df_building, how = 'left', on = ['target_building_id'])\n",
    "\n",
    "df = df[df['is_actual'] == True]\n",
    "df['target_building_id'] = df['target_building_id'].astype(int)\n",
    "\n",
    "df['address'] = df['address'].apply(lambda x: translit(x, 'ru'))"
   ]
  },
  {
   "cell_type": "code",
   "execution_count": 7,
   "id": "dd37fcce",
   "metadata": {},
   "outputs": [
    {
     "name": "stdout",
     "output_type": "stream",
     "text": [
      "CPU times: total: 15.7 s\n",
      "Wall time: 15.8 s\n"
     ]
    },
    {
     "data": {
      "text/plain": [
       "<76655x4365 sparse matrix of type '<class 'numpy.float64'>'\n",
       "\twith 2985636 stored elements in Compressed Sparse Column format>"
      ]
     },
     "execution_count": 7,
     "metadata": {},
     "output_type": "execute_result"
    }
   ],
   "source": [
    "%%time\n",
    "count_char = CountVectorizer(analyzer='char_wb', ngram_range=(1, 2), token_pattern='\\\\w+', max_df=0.9)\n",
    "count_ngram = CountVectorizer(ngram_range=(1, 1), token_pattern='\\\\w+', max_df=0.9)\n",
    "\n",
    "char_csr = count_char.fit_transform(df['target_address'])\n",
    "ngram_csr = count_ngram.fit_transform(df['target_address'])\n",
    "\n",
    "csr = hstack([char_csr, ngram_csr])\n",
    "sca = QuantileTransformer()\n",
    "csr = sca.fit_transform(csr)\n",
    "csr"
   ]
  },
  {
   "cell_type": "markdown",
   "id": "1d90ff58",
   "metadata": {},
   "source": [
    "# ТЕСТ - ВЫБОРКА ИЗ ТРЕЙН ДАТАСЕТА"
   ]
  },
  {
   "cell_type": "code",
   "execution_count": 8,
   "id": "4df78887",
   "metadata": {},
   "outputs": [
    {
     "data": {
      "text/plain": [
       "<76655x4365 sparse matrix of type '<class 'numpy.float64'>'\n",
       "\twith 2362819 stored elements in Compressed Sparse Column format>"
      ]
     },
     "execution_count": 8,
     "metadata": {},
     "output_type": "execute_result"
    }
   ],
   "source": [
    "np.random.seed(0)\n",
    "TEST_SIZE = 100\n",
    "num_tests = np.random.randint(0, df.shape[0], size=TEST_SIZE)\n",
    "y_test = df['target_building_id'].iloc[num_tests]\n",
    "char_csr_test = count_char.transform(df['address'])\n",
    "ngram_csr_test = count_ngram.transform(df['address'])\n",
    "csr_test = hstack([char_csr_test, ngram_csr_test])\n",
    "csr_test = sca.transform(csr_test)\n",
    "csr_test"
   ]
  },
  {
   "cell_type": "code",
   "execution_count": 9,
   "id": "9c1ea5dd",
   "metadata": {},
   "outputs": [
    {
     "name": "stdout",
     "output_type": "stream",
     "text": [
      "CPU times: total: 125 ms\n",
      "Wall time: 121 ms\n"
     ]
    },
    {
     "data": {
      "text/plain": [
       "NearestNeighbors(metric='cosine', n_neighbors=10)"
      ]
     },
     "execution_count": 9,
     "metadata": {},
     "output_type": "execute_result"
    }
   ],
   "source": [
    "%%time\n",
    "\n",
    "neigh = NearestNeighbors(n_neighbors=10, metric='cosine')\n",
    "neigh.fit(csr)"
   ]
  },
  {
   "cell_type": "code",
   "execution_count": 10,
   "id": "266021f7",
   "metadata": {
    "scrolled": true
   },
   "outputs": [
    {
     "name": "stdout",
     "output_type": "stream",
     "text": [
      "Accuracy_scores:\n",
      "1 ответ на 1 запрос 0.71\n",
      "3 ответа на 1 запрос 0.81\n",
      "10 ответов на 1 запрос 0.9\n"
     ]
    }
   ],
   "source": [
    "# если 1 из top_n предсказанных - верный\n",
    "PREDICT_SIZE = 100\n",
    "pred = neigh.kneighbors(csr_test[num_tests], PREDICT_SIZE, return_distance=False)\n",
    "\n",
    "def accuracy_score_(y_test, pred, top_n=10):\n",
    "    y_pred_ = []\n",
    "    for i in range(len(pred)):\n",
    "        y_test_i = y_test.iloc[i]\n",
    "        y_pred_i = df['target_building_id'].iloc[pred[i].flatten()].drop_duplicates().values[:top_n]\n",
    "        if (y_test_i in y_pred_i):\n",
    "            y_pred_.append(y_test_i)\n",
    "        else:\n",
    "            y_pred_.append(y_pred_i[0])\n",
    "\n",
    "    return accuracy_score(y_test, y_pred_)\n",
    "\n",
    "print('Accuracy_scores:')\n",
    "print('1 ответ на 1 запрос', accuracy_score_(y_test, pred, top_n=1))\n",
    "print('3 ответа на 1 запрос', accuracy_score_(y_test, pred, top_n=3))\n",
    "print('10 ответов на 1 запрос', accuracy_score_(y_test, pred, top_n=10))"
   ]
  },
  {
   "cell_type": "markdown",
   "id": "c95c7ab1",
   "metadata": {},
   "source": [
    "# ТЕСТОВЫЙ ДАТАСЕТ"
   ]
  },
  {
   "cell_type": "code",
   "execution_count": 11,
   "id": "66f77c29",
   "metadata": {},
   "outputs": [],
   "source": [
    "df_test = pd.read_csv('test_example.csv', sep=';')"
   ]
  },
  {
   "cell_type": "code",
   "execution_count": 12,
   "id": "f58fbd86",
   "metadata": {},
   "outputs": [
    {
     "data": {
      "text/plain": [
       "<328x4365 sparse matrix of type '<class 'numpy.float64'>'\n",
       "\twith 10177 stored elements in Compressed Sparse Column format>"
      ]
     },
     "execution_count": 12,
     "metadata": {},
     "output_type": "execute_result"
    }
   ],
   "source": [
    "np.random.seed(0)\n",
    "y_test_ = df_test['target_building_id']\n",
    "char_csr_test_ = count_char.transform(df_test['address'])\n",
    "ngram_csr_test_ = count_ngram.transform(df_test['address'])\n",
    "csr_test_ = hstack([char_csr_test_, ngram_csr_test_])\n",
    "csr_test_ = sca.transform(csr_test_)\n",
    "csr_test_"
   ]
  },
  {
   "cell_type": "code",
   "execution_count": 13,
   "id": "eb6c2405",
   "metadata": {},
   "outputs": [
    {
     "name": "stdout",
     "output_type": "stream",
     "text": [
      "Accuracy_scores:\n",
      "1 ответ на 1 запрос 0.6280487804878049\n",
      "3 ответа на 1 запрос 0.7103658536585366\n",
      "10 ответов на 1 запрос 0.7896341463414634\n"
     ]
    }
   ],
   "source": [
    "# если 1 из top_n предсказанных - верный\n",
    "PREDICT_SIZE = 100\n",
    "pred_ = neigh.kneighbors(csr_test_, PREDICT_SIZE, return_distance=False)\n",
    "\n",
    "print('Accuracy_scores:')\n",
    "print('1 ответ на 1 запрос', accuracy_score_(y_test_, pred_, top_n=1))\n",
    "print('3 ответа на 1 запрос', accuracy_score_(y_test_, pred_, top_n=3))\n",
    "print('10 ответов на 1 запрос', accuracy_score_(y_test_, pred_, top_n=10))"
   ]
  },
  {
   "cell_type": "code",
   "execution_count": null,
   "id": "3ac0118c-f647-4cf8-8139-94843f96be93",
   "metadata": {},
   "outputs": [],
   "source": []
  }
 ],
 "metadata": {
  "kernelspec": {
   "display_name": "Python 3 (ipykernel)",
   "language": "python",
   "name": "python3"
  },
  "language_info": {
   "codemirror_mode": {
    "name": "ipython",
    "version": 3
   },
   "file_extension": ".py",
   "mimetype": "text/x-python",
   "name": "python",
   "nbconvert_exporter": "python",
   "pygments_lexer": "ipython3",
   "version": "3.10.10"
  }
 },
 "nbformat": 4,
 "nbformat_minor": 5
}
